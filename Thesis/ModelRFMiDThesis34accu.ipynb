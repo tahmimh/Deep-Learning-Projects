{
 "cells": [
  {
   "cell_type": "code",
   "execution_count": 1,
   "id": "dd5e4600",
   "metadata": {},
   "outputs": [],
   "source": [
    "import keras\n",
    "from keras.models import Sequential\n",
    "from keras.layers import Dense, Dropout, Flatten\n",
    "from keras.layers import Conv2D, MaxPooling2D\n",
    "from keras.preprocessing import image\n",
    "import numpy as np\n",
    "import pandas as pd\n",
    "import matplotlib.pyplot as plt\n",
    "from sklearn.model_selection import train_test_split\n",
    "from tqdm import tqdm\n",
    "from keras.layers import BatchNormalization"
   ]
  },
  {
   "cell_type": "code",
   "execution_count": 2,
   "id": "aa28fe4e",
   "metadata": {},
   "outputs": [],
   "source": [
    "image_directory = 'E:\\B. RFMiD_Challenge_Dataset\\RFMiD_Challenge_Dataset\\Original Images\\Training Set\\\\'\n",
    "\n",
    "#Now let us read metadata to get our Y values (multiple lables)\n",
    "df = pd.read_csv('E:\\B. RFMiD_Challenge_Dataset\\RFMiD_Challenge_Dataset\\Groundtruths\\RFMiD_Training_Labels.csv', dtype={'ID':str})"
   ]
  },
  {
   "cell_type": "code",
   "execution_count": 27,
   "id": "8ae60362",
   "metadata": {},
   "outputs": [
    {
     "name": "stdout",
     "output_type": "stream",
     "text": [
      "  ID  Disease_Risk  DR  ARMD  MH  DN  MYA  BRVO  TSLN  ERM  ...  AION  PT  RT  \\\n",
      "0  1             1   1     0   0   0    0     0     0    0  ...     0   0   0   \n",
      "1  2             1   1     0   0   0    0     0     0    0  ...     0   0   0   \n",
      "2  3             1   1     0   0   0    0     0     0    0  ...     0   0   0   \n",
      "3  4             1   0     0   1   0    0     0     0    0  ...     0   0   0   \n",
      "4  5             1   1     0   0   0    0     0     0    0  ...     0   0   0   \n",
      "\n",
      "   RS  CRS  EDN  RPEC  MHL  RP  OTHER  \n",
      "0   0    0    0     0    0   0      0  \n",
      "1   0    0    0     0    0   0      0  \n",
      "2   0    0    0     0    0   0      0  \n",
      "3   0    0    0     0    0   0      0  \n",
      "4   0    0    0     0    0   0      0  \n",
      "\n",
      "[5 rows x 30 columns]\n",
      "Index(['ID', 'Disease_Risk', 'DR', 'ARMD', 'MH', 'DN', 'MYA', 'BRVO', 'TSLN',\n",
      "       'ERM', 'LS', 'MS', 'CSR', 'ODC', 'CRVO', 'TV', 'AH', 'ODP', 'ODE', 'ST',\n",
      "       'AION', 'PT', 'RT', 'RS', 'CRS', 'EDN', 'RPEC', 'MHL', 'RP', 'OTHER'],\n",
      "      dtype='object')\n"
     ]
    }
   ],
   "source": [
    "print(df.head())     # printing first five rows of the file\n",
    "print(df.columns)"
   ]
  },
  {
   "cell_type": "code",
   "execution_count": 28,
   "id": "0aabaaf8",
   "metadata": {},
   "outputs": [],
   "source": [
    "df = df.iloc[:1920]  #Loading only first 1920 datapoints for memory reasons \n",
    "#Need to read images using the tag from metadata.\n",
    "#Otherwise, if read directly from the folder then images may not correspond to \n",
    "#the metadata from the csv file. "
   ]
  },
  {
   "cell_type": "code",
   "execution_count": 29,
   "id": "a96fbc45",
   "metadata": {},
   "outputs": [
    {
     "name": "stderr",
     "output_type": "stream",
     "text": [
      "100%|██████████████████████████████████████████████████████████████████████████████| 1920/1920 [02:40<00:00, 11.95it/s]\n"
     ]
    }
   ],
   "source": [
    "SIZE = 200\n",
    "X_dataset = []  \n",
    "for i in tqdm(range(df.shape[0])):\n",
    "    img = image.load_img(image_directory +df['ID'][i]+'.png', target_size=(SIZE,SIZE,3))\n",
    "    img = image.img_to_array(img)\n",
    "    img = img/255.\n",
    "    X_dataset.append(img)\n",
    "    \n",
    "X = np.array(X_dataset)"
   ]
  },
  {
   "cell_type": "code",
   "execution_count": 30,
   "id": "59b760ba",
   "metadata": {},
   "outputs": [
    {
     "name": "stdout",
     "output_type": "stream",
     "text": [
      "501\n"
     ]
    }
   ],
   "source": [
    "print(df['ID'][500])"
   ]
  },
  {
   "cell_type": "code",
   "execution_count": 54,
   "id": "e0db412e",
   "metadata": {},
   "outputs": [],
   "source": [
    "y = np.array(df.drop(['ID', 'Disease_Risk'], axis=1))\n",
    "\n",
    "X_train, X_test, y_train, y_test = train_test_split(X, y, random_state=20, test_size=0.3)"
   ]
  },
  {
   "cell_type": "code",
   "execution_count": 55,
   "id": "b7c5d140",
   "metadata": {},
   "outputs": [],
   "source": [
    "model = Sequential()"
   ]
  },
  {
   "cell_type": "code",
   "execution_count": 56,
   "id": "45a2a8c9",
   "metadata": {},
   "outputs": [],
   "source": [
    "model.add(Conv2D(filters=16, kernel_size=(5, 5), activation=\"relu\", input_shape=(SIZE,SIZE,3)))\n",
    "model.add(BatchNormalization())\n",
    "model.add(MaxPooling2D(pool_size=(2, 2)))\n",
    "model.add(Dropout(0.1))\n",
    "\n",
    "model.add(Conv2D(filters=32, kernel_size=(5, 5), activation='relu'))\n",
    "model.add(MaxPooling2D(pool_size=(2, 2)))\n",
    "model.add(BatchNormalization())\n",
    "model.add(Dropout(0.1))\n",
    "\n",
    "model.add(Conv2D(filters=64, kernel_size=(5, 5), activation=\"relu\"))\n",
    "model.add(MaxPooling2D(pool_size=(2, 2)))\n",
    "model.add(BatchNormalization())\n",
    "model.add(Dropout(0.1))\n",
    "\n",
    "model.add(Conv2D(filters=64, kernel_size=(5, 5), activation='relu'))\n",
    "model.add(MaxPooling2D(pool_size=(2, 2)))\n",
    "model.add(BatchNormalization())\n",
    "model.add(Dropout(0.1))\n",
    "\n",
    "model.add(Flatten())\n",
    "model.add(Dense(128, activation='relu'))\n",
    "model.add(Dropout(0.2))\n",
    "model.add(Dense(64, activation='relu'))\n",
    "model.add(Dropout(0.2))\n",
    "model.add(Dense(28, activation='sigmoid'))"
   ]
  },
  {
   "cell_type": "code",
   "execution_count": 57,
   "id": "0f2856c9",
   "metadata": {},
   "outputs": [
    {
     "name": "stdout",
     "output_type": "stream",
     "text": [
      "Model: \"sequential_4\"\n",
      "_________________________________________________________________\n",
      "Layer (type)                 Output Shape              Param #   \n",
      "=================================================================\n",
      "conv2d_19 (Conv2D)           (None, 196, 196, 16)      1216      \n",
      "_________________________________________________________________\n",
      "batch_normalization_16 (Batc (None, 196, 196, 16)      64        \n",
      "_________________________________________________________________\n",
      "max_pooling2d_16 (MaxPooling (None, 98, 98, 16)        0         \n",
      "_________________________________________________________________\n",
      "dropout_24 (Dropout)         (None, 98, 98, 16)        0         \n",
      "_________________________________________________________________\n",
      "conv2d_20 (Conv2D)           (None, 94, 94, 32)        12832     \n",
      "_________________________________________________________________\n",
      "max_pooling2d_17 (MaxPooling (None, 47, 47, 32)        0         \n",
      "_________________________________________________________________\n",
      "batch_normalization_17 (Batc (None, 47, 47, 32)        128       \n",
      "_________________________________________________________________\n",
      "dropout_25 (Dropout)         (None, 47, 47, 32)        0         \n",
      "_________________________________________________________________\n",
      "conv2d_21 (Conv2D)           (None, 43, 43, 64)        51264     \n",
      "_________________________________________________________________\n",
      "max_pooling2d_18 (MaxPooling (None, 21, 21, 64)        0         \n",
      "_________________________________________________________________\n",
      "batch_normalization_18 (Batc (None, 21, 21, 64)        256       \n",
      "_________________________________________________________________\n",
      "dropout_26 (Dropout)         (None, 21, 21, 64)        0         \n",
      "_________________________________________________________________\n",
      "conv2d_22 (Conv2D)           (None, 17, 17, 64)        102464    \n",
      "_________________________________________________________________\n",
      "max_pooling2d_19 (MaxPooling (None, 8, 8, 64)          0         \n",
      "_________________________________________________________________\n",
      "batch_normalization_19 (Batc (None, 8, 8, 64)          256       \n",
      "_________________________________________________________________\n",
      "dropout_27 (Dropout)         (None, 8, 8, 64)          0         \n",
      "_________________________________________________________________\n",
      "flatten_4 (Flatten)          (None, 4096)              0         \n",
      "_________________________________________________________________\n",
      "dense_12 (Dense)             (None, 128)               524416    \n",
      "_________________________________________________________________\n",
      "dropout_28 (Dropout)         (None, 128)               0         \n",
      "_________________________________________________________________\n",
      "dense_13 (Dense)             (None, 64)                8256      \n",
      "_________________________________________________________________\n",
      "dropout_29 (Dropout)         (None, 64)                0         \n",
      "_________________________________________________________________\n",
      "dense_14 (Dense)             (None, 28)                1820      \n",
      "=================================================================\n",
      "Total params: 702,972\n",
      "Trainable params: 702,620\n",
      "Non-trainable params: 352\n",
      "_________________________________________________________________\n"
     ]
    }
   ],
   "source": [
    "model.summary()"
   ]
  },
  {
   "cell_type": "code",
   "execution_count": 58,
   "id": "249398f2",
   "metadata": {},
   "outputs": [],
   "source": [
    "model.compile(optimizer='adam', loss='categorical_crossentropy', metrics=['accuracy'])"
   ]
  },
  {
   "cell_type": "code",
   "execution_count": 59,
   "id": "5f5d6654",
   "metadata": {},
   "outputs": [
    {
     "name": "stdout",
     "output_type": "stream",
     "text": [
      "Epoch 1/10\n",
      "21/21 [==============================] - 38s 2s/step - loss: 3.3961 - accuracy: 0.1868 - val_loss: 3.2690 - val_accuracy: 0.3646\n",
      "Epoch 2/10\n",
      "21/21 [==============================] - 39s 2s/step - loss: 3.2293 - accuracy: 0.1659 - val_loss: 3.2100 - val_accuracy: 0.0503\n",
      "Epoch 3/10\n",
      "21/21 [==============================] - 38s 2s/step - loss: 3.1514 - accuracy: 0.2545 - val_loss: 3.0455 - val_accuracy: 0.1753\n",
      "Epoch 4/10\n",
      "21/21 [==============================] - 38s 2s/step - loss: 3.0632 - accuracy: 0.3512 - val_loss: 3.0918 - val_accuracy: 0.1198\n",
      "Epoch 5/10\n",
      "21/21 [==============================] - 37s 2s/step - loss: 3.0365 - accuracy: 0.2671 - val_loss: 3.0787 - val_accuracy: 0.0642\n",
      "Epoch 6/10\n",
      "21/21 [==============================] - 40s 2s/step - loss: 2.9517 - accuracy: 0.3185 - val_loss: 3.1577 - val_accuracy: 0.1111\n",
      "Epoch 7/10\n",
      "21/21 [==============================] - 42s 2s/step - loss: 2.9094 - accuracy: 0.2850 - val_loss: 3.0443 - val_accuracy: 0.3108\n",
      "Epoch 8/10\n",
      "21/21 [==============================] - 48s 2s/step - loss: 2.8887 - accuracy: 0.3214 - val_loss: 2.9754 - val_accuracy: 0.3229\n",
      "Epoch 9/10\n",
      "21/21 [==============================] - 71s 3s/step - loss: 2.8279 - accuracy: 0.3065 - val_loss: 3.2030 - val_accuracy: 0.3142\n",
      "Epoch 10/10\n",
      "21/21 [==============================] - 41s 2s/step - loss: 2.8616 - accuracy: 0.3438 - val_loss: 3.0274 - val_accuracy: 0.3924\n"
     ]
    }
   ],
   "source": [
    "history = model.fit(X_train, y_train, epochs=10, validation_data=(X_test, y_test), batch_size=64)"
   ]
  },
  {
   "cell_type": "code",
   "execution_count": null,
   "id": "d7955a7c",
   "metadata": {},
   "outputs": [],
   "source": []
  }
 ],
 "metadata": {
  "kernelspec": {
   "display_name": "Python 3",
   "language": "python",
   "name": "python3"
  },
  "language_info": {
   "codemirror_mode": {
    "name": "ipython",
    "version": 3
   },
   "file_extension": ".py",
   "mimetype": "text/x-python",
   "name": "python",
   "nbconvert_exporter": "python",
   "pygments_lexer": "ipython3",
   "version": "3.8.10"
  }
 },
 "nbformat": 4,
 "nbformat_minor": 5
}
