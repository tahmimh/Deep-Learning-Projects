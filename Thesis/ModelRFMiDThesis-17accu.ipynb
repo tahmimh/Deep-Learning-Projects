{
 "cells": [
  {
   "cell_type": "code",
   "execution_count": 1,
   "id": "122653f4",
   "metadata": {},
   "outputs": [],
   "source": [
    "import keras\n",
    "from keras.models import Sequential\n",
    "from keras.layers import Dense, Dropout, Flatten\n",
    "from keras.layers import Conv2D, MaxPooling2D\n",
    "from keras.preprocessing import image\n",
    "import numpy as np\n",
    "import pandas as pd\n",
    "import matplotlib.pyplot as plt\n",
    "from sklearn.model_selection import train_test_split\n",
    "from tqdm import tqdm\n",
    "from keras.layers import BatchNormalization"
   ]
  },
  {
   "cell_type": "code",
   "execution_count": 2,
   "id": "d2c4db47",
   "metadata": {},
   "outputs": [],
   "source": [
    "image_directory = 'E:\\B. RFMiD_Challenge_Dataset\\RFMiD_Challenge_Dataset\\Original Images\\Training Set\\\\'\n",
    "\n",
    "#Now let us read metadata to get our Y values (multiple lables)\n",
    "df = pd.read_csv('E:\\B. RFMiD_Challenge_Dataset\\RFMiD_Challenge_Dataset\\Groundtruths\\RFMiD_Training_Labels.csv', dtype={'ID':str})"
   ]
  },
  {
   "cell_type": "code",
   "execution_count": 27,
   "id": "4c7477c2",
   "metadata": {},
   "outputs": [
    {
     "name": "stdout",
     "output_type": "stream",
     "text": [
      "  ID  Disease_Risk  DR  ARMD  MH  DN  MYA  BRVO  TSLN  ERM  ...  AION  PT  RT  \\\n",
      "0  1             1   1     0   0   0    0     0     0    0  ...     0   0   0   \n",
      "1  2             1   1     0   0   0    0     0     0    0  ...     0   0   0   \n",
      "2  3             1   1     0   0   0    0     0     0    0  ...     0   0   0   \n",
      "3  4             1   0     0   1   0    0     0     0    0  ...     0   0   0   \n",
      "4  5             1   1     0   0   0    0     0     0    0  ...     0   0   0   \n",
      "\n",
      "   RS  CRS  EDN  RPEC  MHL  RP  OTHER  \n",
      "0   0    0    0     0    0   0      0  \n",
      "1   0    0    0     0    0   0      0  \n",
      "2   0    0    0     0    0   0      0  \n",
      "3   0    0    0     0    0   0      0  \n",
      "4   0    0    0     0    0   0      0  \n",
      "\n",
      "[5 rows x 30 columns]\n",
      "Index(['ID', 'Disease_Risk', 'DR', 'ARMD', 'MH', 'DN', 'MYA', 'BRVO', 'TSLN',\n",
      "       'ERM', 'LS', 'MS', 'CSR', 'ODC', 'CRVO', 'TV', 'AH', 'ODP', 'ODE', 'ST',\n",
      "       'AION', 'PT', 'RT', 'RS', 'CRS', 'EDN', 'RPEC', 'MHL', 'RP', 'OTHER'],\n",
      "      dtype='object')\n"
     ]
    }
   ],
   "source": [
    "print(df.head())     # printing first five rows of the file\n",
    "print(df.columns)"
   ]
  },
  {
   "cell_type": "code",
   "execution_count": 28,
   "id": "60a10de3",
   "metadata": {},
   "outputs": [],
   "source": [
    "df = df.iloc[:1920]  #Loading only first 1920 datapoints for memory reasons \n",
    "#Need to read images using the tag from metadata.\n",
    "#Otherwise, if read directly from the folder then images may not correspond to \n",
    "#the metadata from the csv file. "
   ]
  },
  {
   "cell_type": "code",
   "execution_count": 29,
   "id": "eab7ad05",
   "metadata": {},
   "outputs": [
    {
     "name": "stderr",
     "output_type": "stream",
     "text": [
      "100%|██████████████████████████████████████████████████████████████████████████████| 1920/1920 [02:40<00:00, 11.95it/s]\n"
     ]
    }
   ],
   "source": [
    "SIZE = 200\n",
    "X_dataset = []  \n",
    "for i in tqdm(range(df.shape[0])):\n",
    "    img = image.load_img(image_directory +df['ID'][i]+'.png', target_size=(SIZE,SIZE,3))\n",
    "    img = image.img_to_array(img)\n",
    "    img = img/255.\n",
    "    X_dataset.append(img)\n",
    "    \n",
    "X = np.array(X_dataset)"
   ]
  },
  {
   "cell_type": "code",
   "execution_count": 30,
   "id": "0d8a8712",
   "metadata": {},
   "outputs": [
    {
     "name": "stdout",
     "output_type": "stream",
     "text": [
      "501\n"
     ]
    }
   ],
   "source": [
    "print(df['ID'][500])"
   ]
  },
  {
   "cell_type": "code",
   "execution_count": 48,
   "id": "2d192c0e",
   "metadata": {},
   "outputs": [],
   "source": [
    "y = np.array(df.drop(['ID', 'Disease_Risk'], axis=1))\n",
    "\n",
    "X_train, X_test, y_train, y_test = train_test_split(X, y, random_state=20, test_size=0.3)"
   ]
  },
  {
   "cell_type": "code",
   "execution_count": 49,
   "id": "9a446f91",
   "metadata": {},
   "outputs": [],
   "source": [
    "model = Sequential()"
   ]
  },
  {
   "cell_type": "code",
   "execution_count": 50,
   "id": "ac20a699",
   "metadata": {},
   "outputs": [],
   "source": [
    "model.add(Conv2D(filters=16, kernel_size=(5, 5), activation=\"relu\", input_shape=(SIZE,SIZE,3)))\n",
    "model.add(BatchNormalization())\n",
    "model.add(MaxPooling2D(pool_size=(2, 2)))\n",
    "model.add(Dropout(0.2))\n",
    "\n",
    "model.add(Conv2D(filters=32, kernel_size=(5, 5), activation='relu'))\n",
    "model.add(MaxPooling2D(pool_size=(2, 2)))\n",
    "model.add(BatchNormalization())\n",
    "model.add(Dropout(0.2))\n",
    "\n",
    "model.add(Conv2D(filters=64, kernel_size=(5, 5), activation=\"relu\"))\n",
    "model.add(MaxPooling2D(pool_size=(2, 2)))\n",
    "model.add(BatchNormalization())\n",
    "model.add(Dropout(0.2))\n",
    "\n",
    "model.add(Conv2D(filters=64, kernel_size=(5, 5), activation='relu'))\n",
    "model.add(MaxPooling2D(pool_size=(2, 2)))\n",
    "model.add(BatchNormalization())\n",
    "model.add(Dropout(0.2))\n",
    "\n",
    "model.add(Flatten())\n",
    "model.add(Dense(128, activation='relu'))\n",
    "model.add(Dropout(0.5))\n",
    "model.add(Dense(64, activation='relu'))\n",
    "model.add(Dropout(0.5))\n",
    "model.add(Dense(28, activation='sigmoid'))"
   ]
  },
  {
   "cell_type": "code",
   "execution_count": 51,
   "id": "cafcf1c8",
   "metadata": {},
   "outputs": [
    {
     "name": "stdout",
     "output_type": "stream",
     "text": [
      "Model: \"sequential_3\"\n",
      "_________________________________________________________________\n",
      "Layer (type)                 Output Shape              Param #   \n",
      "=================================================================\n",
      "conv2d_15 (Conv2D)           (None, 196, 196, 16)      1216      \n",
      "_________________________________________________________________\n",
      "batch_normalization_12 (Batc (None, 196, 196, 16)      64        \n",
      "_________________________________________________________________\n",
      "max_pooling2d_12 (MaxPooling (None, 98, 98, 16)        0         \n",
      "_________________________________________________________________\n",
      "dropout_18 (Dropout)         (None, 98, 98, 16)        0         \n",
      "_________________________________________________________________\n",
      "conv2d_16 (Conv2D)           (None, 94, 94, 32)        12832     \n",
      "_________________________________________________________________\n",
      "max_pooling2d_13 (MaxPooling (None, 47, 47, 32)        0         \n",
      "_________________________________________________________________\n",
      "batch_normalization_13 (Batc (None, 47, 47, 32)        128       \n",
      "_________________________________________________________________\n",
      "dropout_19 (Dropout)         (None, 47, 47, 32)        0         \n",
      "_________________________________________________________________\n",
      "conv2d_17 (Conv2D)           (None, 43, 43, 64)        51264     \n",
      "_________________________________________________________________\n",
      "max_pooling2d_14 (MaxPooling (None, 21, 21, 64)        0         \n",
      "_________________________________________________________________\n",
      "batch_normalization_14 (Batc (None, 21, 21, 64)        256       \n",
      "_________________________________________________________________\n",
      "dropout_20 (Dropout)         (None, 21, 21, 64)        0         \n",
      "_________________________________________________________________\n",
      "conv2d_18 (Conv2D)           (None, 17, 17, 64)        102464    \n",
      "_________________________________________________________________\n",
      "max_pooling2d_15 (MaxPooling (None, 8, 8, 64)          0         \n",
      "_________________________________________________________________\n",
      "batch_normalization_15 (Batc (None, 8, 8, 64)          256       \n",
      "_________________________________________________________________\n",
      "dropout_21 (Dropout)         (None, 8, 8, 64)          0         \n",
      "_________________________________________________________________\n",
      "flatten_3 (Flatten)          (None, 4096)              0         \n",
      "_________________________________________________________________\n",
      "dense_9 (Dense)              (None, 128)               524416    \n",
      "_________________________________________________________________\n",
      "dropout_22 (Dropout)         (None, 128)               0         \n",
      "_________________________________________________________________\n",
      "dense_10 (Dense)             (None, 64)                8256      \n",
      "_________________________________________________________________\n",
      "dropout_23 (Dropout)         (None, 64)                0         \n",
      "_________________________________________________________________\n",
      "dense_11 (Dense)             (None, 28)                1820      \n",
      "=================================================================\n",
      "Total params: 702,972\n",
      "Trainable params: 702,620\n",
      "Non-trainable params: 352\n",
      "_________________________________________________________________\n"
     ]
    }
   ],
   "source": [
    "model.summary()"
   ]
  },
  {
   "cell_type": "code",
   "execution_count": 52,
   "id": "4920824c",
   "metadata": {},
   "outputs": [],
   "source": [
    "model.compile(optimizer='adam', loss='categorical_crossentropy', metrics=['accuracy'])"
   ]
  },
  {
   "cell_type": "code",
   "execution_count": 53,
   "id": "8fb194f1",
   "metadata": {},
   "outputs": [
    {
     "name": "stdout",
     "output_type": "stream",
     "text": [
      "Epoch 1/10\n",
      "21/21 [==============================] - 37s 2s/step - loss: 3.6604 - accuracy: 0.0871 - val_loss: 3.3864 - val_accuracy: 0.0920\n",
      "Epoch 2/10\n",
      "21/21 [==============================] - 35s 2s/step - loss: 3.4374 - accuracy: 0.1496 - val_loss: 3.2149 - val_accuracy: 0.1562\n",
      "Epoch 3/10\n",
      "21/21 [==============================] - 36s 2s/step - loss: 3.3322 - accuracy: 0.1376 - val_loss: 3.1677 - val_accuracy: 0.0347\n",
      "Epoch 4/10\n",
      "21/21 [==============================] - 36s 2s/step - loss: 3.2810 - accuracy: 0.1458 - val_loss: 3.1072 - val_accuracy: 0.1580\n",
      "Epoch 5/10\n",
      "21/21 [==============================] - 37s 2s/step - loss: 3.2422 - accuracy: 0.1562 - val_loss: 3.0290 - val_accuracy: 0.1267\n",
      "Epoch 6/10\n",
      "21/21 [==============================] - 37s 2s/step - loss: 3.1885 - accuracy: 0.1682 - val_loss: 2.9981 - val_accuracy: 0.1580\n",
      "Epoch 7/10\n",
      "21/21 [==============================] - 38s 2s/step - loss: 3.1645 - accuracy: 0.1935 - val_loss: 3.0789 - val_accuracy: 0.1580\n",
      "Epoch 8/10\n",
      "21/21 [==============================] - 37s 2s/step - loss: 3.1368 - accuracy: 0.1637 - val_loss: 3.0451 - val_accuracy: 0.1580\n",
      "Epoch 9/10\n",
      "21/21 [==============================] - 38s 2s/step - loss: 3.1420 - accuracy: 0.1868 - val_loss: 3.0150 - val_accuracy: 0.1615\n",
      "Epoch 10/10\n",
      "21/21 [==============================] - 38s 2s/step - loss: 3.0958 - accuracy: 0.1615 - val_loss: 2.9956 - val_accuracy: 0.1580\n"
     ]
    }
   ],
   "source": [
    "history = model.fit(X_train, y_train, epochs=10, validation_data=(X_test, y_test), batch_size=64)"
   ]
  },
  {
   "cell_type": "code",
   "execution_count": null,
   "id": "96b96f19",
   "metadata": {},
   "outputs": [],
   "source": []
  }
 ],
 "metadata": {
  "kernelspec": {
   "display_name": "Python 3",
   "language": "python",
   "name": "python3"
  },
  "language_info": {
   "codemirror_mode": {
    "name": "ipython",
    "version": 3
   },
   "file_extension": ".py",
   "mimetype": "text/x-python",
   "name": "python",
   "nbconvert_exporter": "python",
   "pygments_lexer": "ipython3",
   "version": "3.8.10"
  }
 },
 "nbformat": 4,
 "nbformat_minor": 5
}
